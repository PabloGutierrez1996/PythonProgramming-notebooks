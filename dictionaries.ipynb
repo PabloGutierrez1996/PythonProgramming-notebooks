{
 "cells": [
  {
   "cell_type": "markdown",
   "metadata": {},
   "source": [
    "## Diccionarios\n"
   ]
  },
  {
   "cell_type": "markdown",
   "metadata": {},
   "source": [
    "Supongamos el siguiente esquema para almacenar y consultar la información de algunos estudiantes: "
   ]
  },
  {
   "cell_type": "code",
   "execution_count": 2,
   "metadata": {},
   "outputs": [],
   "source": [
    "names = ['Ana', 'John', 'Denise', 'Katy']\n",
    "grade = ['B', 'A+', 'A', 'A']\n",
    "course = [\"20.001\", \"6.0001\", \"20.002\", \"9.01\"]"
   ]
  },
  {
   "cell_type": "code",
   "execution_count": 3,
   "metadata": {},
   "outputs": [],
   "source": [
    "def get_grade(student, name_list, grade_list, course_list): \n",
    "    i = name_list.index(student)\n",
    "    grade = grade_list[i]\n",
    "    course = course_list[i]\n",
    "    return (course, grade)"
   ]
  },
  {
   "cell_type": "code",
   "execution_count": 4,
   "metadata": {},
   "outputs": [
    {
     "data": {
      "text/plain": [
       "('20.001', 'B')"
      ]
     },
     "execution_count": 4,
     "metadata": {},
     "output_type": "execute_result"
    }
   ],
   "source": [
    "get_grade(\"Ana\", names, grade, course)"
   ]
  },
  {
   "cell_type": "markdown",
   "metadata": {},
   "source": [
    "Los diccionarios proveen una alternativa más limpia."
   ]
  },
  {
   "cell_type": "code",
   "execution_count": 11,
   "metadata": {},
   "outputs": [],
   "source": [
    "grades = {'Ana':'B', 'John':'A+', 'Denise':'A', 'Katy':'A'}\n",
    "course = {'Ana':'20.001', 'John':'6.0001', 'Denise':'20.002', 'Katy':'9.01'}"
   ]
  },
  {
   "cell_type": "code",
   "execution_count": 12,
   "metadata": {},
   "outputs": [
    {
     "data": {
      "text/plain": [
       "('B', '20.001')"
      ]
     },
     "execution_count": 12,
     "metadata": {},
     "output_type": "execute_result"
    }
   ],
   "source": [
    "grades[\"Ana\"], course[\"Ana\"]"
   ]
  },
  {
   "cell_type": "markdown",
   "metadata": {},
   "source": [
    "Para crear un diccionario vacío: "
   ]
  },
  {
   "cell_type": "code",
   "execution_count": 19,
   "metadata": {},
   "outputs": [
    {
     "data": {
      "text/plain": [
       "dict"
      ]
     },
     "execution_count": 19,
     "metadata": {},
     "output_type": "execute_result"
    }
   ],
   "source": [
    "d = dict()\n",
    "type(d)"
   ]
  },
  {
   "cell_type": "markdown",
   "metadata": {},
   "source": [
    "## Operaciones de diccionarios\n",
    "\n",
    "Veamos los métodos `keys()` y `values()`: "
   ]
  },
  {
   "cell_type": "code",
   "execution_count": 21,
   "metadata": {},
   "outputs": [],
   "source": [
    "grades = {'Ana':'B', 'John':'A+', 'Denise':'A', 'Katy':'A'}"
   ]
  },
  {
   "cell_type": "code",
   "execution_count": 22,
   "metadata": {},
   "outputs": [
    {
     "data": {
      "text/plain": [
       "dict_keys(['Ana', 'John', 'Denise', 'Katy'])"
      ]
     },
     "execution_count": 22,
     "metadata": {},
     "output_type": "execute_result"
    }
   ],
   "source": [
    "grades.keys()"
   ]
  },
  {
   "cell_type": "code",
   "execution_count": 23,
   "metadata": {},
   "outputs": [
    {
     "data": {
      "text/plain": [
       "dict_values(['B', 'A+', 'A', 'A'])"
      ]
     },
     "execution_count": 23,
     "metadata": {},
     "output_type": "execute_result"
    }
   ],
   "source": [
    "grades.values()"
   ]
  },
  {
   "cell_type": "markdown",
   "metadata": {},
   "source": [
    "Nota: el orden de iteración en un diccionario no está garantizado al utilizar estas funciones."
   ]
  },
  {
   "cell_type": "markdown",
   "metadata": {},
   "source": [
    "## Características de las llaves y valores"
   ]
  },
  {
   "cell_type": "code",
   "execution_count": 34,
   "metadata": {},
   "outputs": [
    {
     "data": {
      "text/plain": [
       "{4: {1: 0}, (1, 3): 'twelve', 'const': [3.14, 2.7, 8.44]}"
      ]
     },
     "execution_count": 34,
     "metadata": {},
     "output_type": "execute_result"
    }
   ],
   "source": [
    "d = {4:{1:0}, \n",
    "    (1,3):\"twelve\",\n",
    "    'const':[3.14,2.7,8.44]}\n",
    "\n",
    "d"
   ]
  },
  {
   "cell_type": "code",
   "execution_count": 35,
   "metadata": {},
   "outputs": [
    {
     "data": {
      "text/plain": [
       "'twelve'"
      ]
     },
     "execution_count": 35,
     "metadata": {},
     "output_type": "execute_result"
    }
   ],
   "source": [
    "d[(1, 3)]"
   ]
  },
  {
   "cell_type": "code",
   "execution_count": 36,
   "metadata": {},
   "outputs": [
    {
     "data": {
      "text/plain": [
       "[3.14, 2.7, 8.44]"
      ]
     },
     "execution_count": 36,
     "metadata": {},
     "output_type": "execute_result"
    }
   ],
   "source": [
    "d[\"const\"]"
   ]
  },
  {
   "cell_type": "markdown",
   "metadata": {},
   "source": [
    "## Dictionary comprehension"
   ]
  },
  {
   "cell_type": "code",
   "execution_count": 94,
   "metadata": {},
   "outputs": [],
   "source": [
    "f = {x: 2*x**2+2*x+1 for x in range(10)}"
   ]
  },
  {
   "cell_type": "code",
   "execution_count": 95,
   "metadata": {},
   "outputs": [
    {
     "data": {
      "text/plain": [
       "{0: 1, 1: 5, 2: 13, 3: 25, 4: 41, 5: 61, 6: 85, 7: 113, 8: 145, 9: 181}"
      ]
     },
     "execution_count": 95,
     "metadata": {},
     "output_type": "execute_result"
    }
   ],
   "source": [
    "f"
   ]
  },
  {
   "cell_type": "markdown",
   "metadata": {},
   "source": [
    "## Iteración\n",
    "\n",
    "- [How to Iterate Through a Dictionary in Python](https://realpython.com/iterate-through-dictionary-python/)\n",
    "- Ver los métodos `keys()`, `values()` e `items()`."
   ]
  },
  {
   "cell_type": "code",
   "execution_count": 98,
   "metadata": {},
   "outputs": [
    {
     "name": "stdout",
     "output_type": "stream",
     "text": [
      "f(0) = 1\n",
      "f(1) = 5\n",
      "f(2) = 13\n",
      "f(3) = 25\n",
      "f(4) = 41\n",
      "f(5) = 61\n",
      "f(6) = 85\n",
      "f(7) = 113\n",
      "f(8) = 145\n",
      "f(9) = 181\n"
     ]
    }
   ],
   "source": [
    "for x in f: \n",
    "    print(f\"f({x}) = {f[x]}\")"
   ]
  },
  {
   "cell_type": "code",
   "execution_count": 100,
   "metadata": {},
   "outputs": [
    {
     "name": "stdout",
     "output_type": "stream",
     "text": [
      "f(0) = 1\n",
      "f(1) = 5\n",
      "f(2) = 13\n",
      "f(3) = 25\n",
      "f(4) = 41\n",
      "f(5) = 61\n",
      "f(6) = 85\n",
      "f(7) = 113\n",
      "f(8) = 145\n",
      "f(9) = 181\n"
     ]
    }
   ],
   "source": [
    "for x, fx in f.items():\n",
    "    print(f\"f({x}) = {fx}\")"
   ]
  },
  {
   "cell_type": "markdown",
   "metadata": {},
   "source": [
    "## Ejemplo: diccionario de frecuencias"
   ]
  },
  {
   "cell_type": "code",
   "execution_count": 8,
   "metadata": {},
   "outputs": [],
   "source": [
    "complicity = \"\"\"\n",
    "Soy el verbo que da acción a una buena conversación\n",
    "Y cuando tu me nombras siente ganas\n",
    "Soy la nueva alternativa contra contaminación\n",
    "Y tu eres la energía que me carga\n",
    "Soy una arboleda que da sombra a tu casa\n",
    "Un viento suave que te soba la cara\n",
    "De too's tus sueños, negra, soy la manifestación\n",
    "Tu eres esa libertad soñada\n",
    "Soy la serenidad que lleva a la meditación\n",
    "Y tu eres ese tan sagrado mantra\n",
    "Soy ese juguito e' parcha que te baja la presión\n",
    "Y siempre que te sube tu me llamas ya\n",
    "Tira la sábana sal de la cama\n",
    "Vamos a conquistar toda la casa\n",
    "De todo lo que tu acostumbras soy contradicción\n",
    "Creo que eso es lo que a ti te llama\n",
    "La complicidad es tanta\n",
    "Que nuestras vibraciones se complementan\n",
    "Lo que tienes me hace falta\n",
    "Y lo que tengo te hace ser más completa\n",
    "La afinidad es tanta\n",
    "Miro a tus ojos y ya se lo que piensas\n",
    "Te quiero por que eres tantas\n",
    "Cositas bellas que me hacen creer que soy\n",
    "La levadura que te hace crecer el corazón\n",
    "Y tu la vitamina que me falta\n",
    "Soy ese rocío que se posa en tu vegetación\n",
    "Y tu esa tierra fértil que esta escasa\n",
    "Soy La blanca arena que alfombra tu playa\n",
    "Todo el follaje que da vida a tu mapa\n",
    "De toda idea creativa soy la gestación\n",
    "Tu eres la utopía deseada\n",
    "La complicidad es tanta\n",
    "Que nuestras vibraciones se complementan\n",
    "Lo que tienes me hace falta\n",
    "Y lo que tengo te hace ser más completa\n",
    "La afinidad es tanta miro a tus ojos\n",
    "Y ya se lo que piensas\n",
    "Te quiero por que eres tantas cositas\n",
    "Bellas que me hacen sentir muy bien\n",
    "Soy la locura que estremece,\n",
    "Soy tu adicción y tu eres mi felicidad, mi calma\n",
    "Soy una colonia que va en busca de liberación\n",
    "Y tu eres esa dosis de esperanza\n",
    "Soy la cordillera que en la distancia\n",
    "Te cura la visión con su elegancia\n",
    "De todo loco que lo intenta soy la frustración\n",
    "Y tu eres ese reto que me encanta\n",
    "La complicidad es tanta\n",
    "Que nuestras vibraciones se complementan\n",
    "Lo que tienes me hace falta\n",
    "Y lo que tengo te hace ser más completa\n",
    "La afinidad es tanta miro a tus ojos\n",
    "Y ya se lo que piensas\n",
    "Te quiero por que eres tantas\n",
    "Cositas bellas que me hacen sentir muy bien\n",
    "La complicidad es tanta\n",
    "Que nuestras vibraciones se complementan\n",
    "Lo que tienes me hace falta\n",
    "Y lo que tengo te hace ser más completa\n",
    "La afinidad es tanta miro a tus ojos\n",
    "Y ya se lo que piensas\n",
    "Te quiero por que eres tantas\n",
    "Cositas bellas que me hacen sentir muy bien\n",
    "\"\"\""
   ]
  },
  {
   "cell_type": "markdown",
   "metadata": {},
   "source": [
    "### Obtener las frecuencias"
   ]
  },
  {
   "cell_type": "code",
   "execution_count": 21,
   "metadata": {},
   "outputs": [],
   "source": [
    "def lyrics_to_frequencies(lyrics: str):\n",
    "    myDict = {}\n",
    "    for word in lyrics:\n",
    "        if word in myDict:\n",
    "            myDict[word] += 1\n",
    "        else:\n",
    "            myDict[word] = 1\n",
    "    return myDict"
   ]
  },
  {
   "cell_type": "code",
   "execution_count": 22,
   "metadata": {},
   "outputs": [
    {
     "data": {
      "text/plain": [
       "{'Soy': 11,\n",
       " 'el': 3,\n",
       " 'verbo': 1,\n",
       " 'que': 42,\n",
       " 'da': 3,\n",
       " 'acción': 1,\n",
       " 'a': 10,\n",
       " 'una': 3,\n",
       " 'buena': 1,\n",
       " 'conversación': 1,\n",
       " 'Y': 15,\n",
       " 'cuando': 1,\n",
       " 'tu': 15,\n",
       " 'me': 13,\n",
       " 'nombras': 1,\n",
       " 'siente': 1,\n",
       " 'ganas': 1,\n",
       " 'la': 18,\n",
       " 'nueva': 1,\n",
       " 'alternativa': 1,\n",
       " 'contra': 1,\n",
       " 'contaminación': 1,\n",
       " 'eres': 11,\n",
       " 'energía': 1,\n",
       " 'carga': 1,\n",
       " 'arboleda': 1,\n",
       " 'sombra': 1,\n",
       " 'casa': 2,\n",
       " 'Un': 1,\n",
       " 'viento': 1,\n",
       " 'suave': 1,\n",
       " 'te': 9,\n",
       " 'soba': 1,\n",
       " 'cara': 1,\n",
       " 'De': 4,\n",
       " \"too's\": 1,\n",
       " 'tus': 5,\n",
       " 'sueños,': 1,\n",
       " 'negra,': 1,\n",
       " 'soy': 5,\n",
       " 'manifestación': 1,\n",
       " 'Tu': 2,\n",
       " 'esa': 3,\n",
       " 'libertad': 1,\n",
       " 'soñada': 1,\n",
       " 'serenidad': 1,\n",
       " 'lleva': 1,\n",
       " 'meditación': 1,\n",
       " 'ese': 4,\n",
       " 'tan': 1,\n",
       " 'sagrado': 1,\n",
       " 'mantra': 1,\n",
       " 'juguito': 1,\n",
       " \"e'\": 1,\n",
       " 'parcha': 1,\n",
       " 'baja': 1,\n",
       " 'presión': 1,\n",
       " 'siempre': 1,\n",
       " 'sube': 1,\n",
       " 'llamas': 1,\n",
       " 'ya': 5,\n",
       " 'Tira': 1,\n",
       " 'sábana': 1,\n",
       " 'sal': 1,\n",
       " 'de': 3,\n",
       " 'cama': 1,\n",
       " 'Vamos': 1,\n",
       " 'conquistar': 1,\n",
       " 'toda': 2,\n",
       " 'todo': 2,\n",
       " 'lo': 11,\n",
       " 'acostumbras': 1,\n",
       " 'contradicción': 1,\n",
       " 'Creo': 1,\n",
       " 'eso': 1,\n",
       " 'es': 9,\n",
       " 'ti': 1,\n",
       " 'llama': 1,\n",
       " 'La': 10,\n",
       " 'complicidad': 4,\n",
       " 'tanta': 8,\n",
       " 'Que': 4,\n",
       " 'nuestras': 4,\n",
       " 'vibraciones': 4,\n",
       " 'se': 9,\n",
       " 'complementan': 4,\n",
       " 'Lo': 4,\n",
       " 'tienes': 4,\n",
       " 'hace': 9,\n",
       " 'falta': 5,\n",
       " 'tengo': 4,\n",
       " 'ser': 4,\n",
       " 'más': 4,\n",
       " 'completa': 4,\n",
       " 'afinidad': 4,\n",
       " 'Miro': 1,\n",
       " 'ojos': 4,\n",
       " 'y': 2,\n",
       " 'piensas': 4,\n",
       " 'Te': 5,\n",
       " 'quiero': 4,\n",
       " 'por': 4,\n",
       " 'tantas': 4,\n",
       " 'Cositas': 3,\n",
       " 'bellas': 3,\n",
       " 'hacen': 4,\n",
       " 'creer': 1,\n",
       " 'levadura': 1,\n",
       " 'crecer': 1,\n",
       " 'corazón': 1,\n",
       " 'vitamina': 1,\n",
       " 'rocío': 1,\n",
       " 'posa': 1,\n",
       " 'en': 3,\n",
       " 'vegetación': 1,\n",
       " 'tierra': 1,\n",
       " 'fértil': 1,\n",
       " 'esta': 1,\n",
       " 'escasa': 1,\n",
       " 'blanca': 1,\n",
       " 'arena': 1,\n",
       " 'alfombra': 1,\n",
       " 'playa': 1,\n",
       " 'Todo': 1,\n",
       " 'follaje': 1,\n",
       " 'vida': 1,\n",
       " 'mapa': 1,\n",
       " 'idea': 1,\n",
       " 'creativa': 1,\n",
       " 'gestación': 1,\n",
       " 'utopía': 1,\n",
       " 'deseada': 1,\n",
       " 'miro': 3,\n",
       " 'cositas': 1,\n",
       " 'Bellas': 1,\n",
       " 'sentir': 3,\n",
       " 'muy': 3,\n",
       " 'bien': 3,\n",
       " 'locura': 1,\n",
       " 'estremece,': 1,\n",
       " 'adicción': 1,\n",
       " 'mi': 2,\n",
       " 'felicidad,': 1,\n",
       " 'calma': 1,\n",
       " 'colonia': 1,\n",
       " 'va': 1,\n",
       " 'busca': 1,\n",
       " 'liberación': 1,\n",
       " 'dosis': 1,\n",
       " 'esperanza': 1,\n",
       " 'cordillera': 1,\n",
       " 'distancia': 1,\n",
       " 'cura': 1,\n",
       " 'visión': 1,\n",
       " 'con': 1,\n",
       " 'su': 1,\n",
       " 'elegancia': 1,\n",
       " 'loco': 1,\n",
       " 'intenta': 1,\n",
       " 'frustración': 1,\n",
       " 'reto': 1,\n",
       " 'encanta': 1}"
      ]
     },
     "execution_count": 22,
     "metadata": {},
     "output_type": "execute_result"
    }
   ],
   "source": [
    "freqs = lyrics_to_frequencies(complicity.split())\n",
    "freqs"
   ]
  },
  {
   "cell_type": "markdown",
   "metadata": {},
   "source": [
    "### Obtener las palabras más comunes"
   ]
  },
  {
   "cell_type": "code",
   "execution_count": 13,
   "metadata": {},
   "outputs": [],
   "source": [
    "def most_common_word(freqs):\n",
    "    best = max(freqs.values())\n",
    "    words = []\n",
    "    for k in freqs:\n",
    "        if freqs[k] == best:\n",
    "            words.append(k)\n",
    "    return (words, best)"
   ]
  },
  {
   "cell_type": "code",
   "execution_count": 15,
   "metadata": {},
   "outputs": [
    {
     "data": {
      "text/plain": [
       "(['que'], 42)"
      ]
     },
     "execution_count": 15,
     "metadata": {},
     "output_type": "execute_result"
    }
   ],
   "source": [
    "most_common_word(freqs)"
   ]
  },
  {
   "cell_type": "code",
   "execution_count": 16,
   "metadata": {},
   "outputs": [],
   "source": [
    "def words_often(freqs_dict, minTimes):\n",
    "    result = []\n",
    "    done = False\n",
    "    freqs = freqs_dict.copy()\n",
    "    while not done:\n",
    "        temp = most_common_word(freqs)\n",
    "        if temp[1] >= minTimes:\n",
    "            result.append(temp)\n",
    "            for w in temp[0]:\n",
    "                #remove word from dict\n",
    "                del(freqs[w])  \n",
    "        else:\n",
    "            done = True\n",
    "    return result"
   ]
  },
  {
   "cell_type": "code",
   "execution_count": 17,
   "metadata": {},
   "outputs": [
    {
     "data": {
      "text/plain": [
       "[(['que'], 42),\n",
       " (['la'], 18),\n",
       " (['Y', 'tu'], 15),\n",
       " (['me'], 13),\n",
       " (['Soy', 'eres', 'lo'], 11),\n",
       " (['a', 'La'], 10),\n",
       " (['te', 'es', 'se', 'hace'], 9),\n",
       " (['tanta'], 8),\n",
       " (['tus', 'soy', 'ya', 'falta', 'Te'], 5)]"
      ]
     },
     "execution_count": 17,
     "metadata": {},
     "output_type": "execute_result"
    }
   ],
   "source": [
    "words_often(freqs, 5)"
   ]
  },
  {
   "cell_type": "markdown",
   "metadata": {},
   "source": [
    "## Ejercicios"
   ]
  },
  {
   "cell_type": "markdown",
   "metadata": {},
   "source": [
    "- Modificar el ejercicio anterior para que la función `lyrics_to_frequencies`  quite las palabras de 3 letras o menos. Realizar el análisis de palabras que aparecen más de 5 veces."
   ]
  },
  {
   "cell_type": "code",
   "execution_count": 56,
   "metadata": {},
   "outputs": [],
   "source": [
    "def lyrics_to_frequencies(lyrics: str):\n",
    "    listaPalabras = lyrics.split()\n",
    "    miDiccionario = {}\n",
    "    listaMayoresacinco = []\n",
    "    for palabra in listaPalabras:\n",
    "        if (len(palabra)>=4):\n",
    "            if palabra in miDiccionario:\n",
    "                miDiccionario[palabra] += 1\n",
    "            else:\n",
    "                miDiccionario[palabra] = 1\n",
    "    for elemento in miDiccionario:\n",
    "        if (miDiccionario[elemento]>5):\n",
    "            listaMayoresacinco.append(elemento)\n",
    "       \n",
    "        \n",
    "    return listaMayoresacinco"
   ]
  },
  {
   "cell_type": "code",
   "execution_count": 57,
   "metadata": {},
   "outputs": [
    {
     "data": {
      "text/plain": [
       "['eres', 'tanta', 'hace']"
      ]
     },
     "execution_count": 57,
     "metadata": {},
     "output_type": "execute_result"
    }
   ],
   "source": [
    "lyrics_to_frequencies(complicity)"
   ]
  },
  {
   "cell_type": "markdown",
   "metadata": {},
   "source": [
    "- Crear un diccionario con los primeros 100 números primos. "
   ]
  },
  {
   "cell_type": "code",
   "execution_count": 63,
   "metadata": {},
   "outputs": [
    {
     "name": "stdout",
     "output_type": "stream",
     "text": [
      "{2: 'Primo', 3: 'Primo', 5: 'Primo', 7: 'Primo', 11: 'Primo', 13: 'Primo', 17: 'Primo', 19: 'Primo', 23: 'Primo', 29: 'Primo', 31: 'Primo', 37: 'Primo', 41: 'Primo', 43: 'Primo', 47: 'Primo', 53: 'Primo', 59: 'Primo', 61: 'Primo', 67: 'Primo', 71: 'Primo', 73: 'Primo', 79: 'Primo', 83: 'Primo', 89: 'Primo', 97: 'Primo'}\n"
     ]
    }
   ],
   "source": [
    "import math\n",
    "diccionarioPrimos = {}\n",
    "\n",
    "def isprime(x):\n",
    "    a=2\n",
    "    while a<=math.sqrt(x):\n",
    "        if x%a<1:\n",
    "            return False\n",
    "        a=a+1\n",
    "    return x>1\n",
    "\n",
    "for numero in range(101):\n",
    "    if(isprime(numero)==True):\n",
    "        diccionarioPrimos[numero] = \"Primo\"\n",
    "\n",
    "print(diccionarioPrimos)"
   ]
  },
  {
   "cell_type": "code",
   "execution_count": 70,
   "metadata": {},
   "outputs": [
    {
     "ename": "KeyboardInterrupt",
     "evalue": "",
     "output_type": "error",
     "traceback": [
      "\u001b[1;31m---------------------------------------------------------------------------\u001b[0m",
      "\u001b[1;31mKeyboardInterrupt\u001b[0m                         Traceback (most recent call last)",
      "\u001b[1;32m~\\AppData\\Local\\Temp/ipykernel_29636/3355409561.py\u001b[0m in \u001b[0;36m<module>\u001b[1;34m\u001b[0m\n\u001b[0;32m     17\u001b[0m     \u001b[1;32mreturn\u001b[0m \u001b[0mlistaPrimos\u001b[0m\u001b[1;33m\u001b[0m\u001b[1;33m\u001b[0m\u001b[0m\n\u001b[0;32m     18\u001b[0m \u001b[1;33m\u001b[0m\u001b[0m\n\u001b[1;32m---> 19\u001b[1;33m \u001b[0mcalculaNumerosPrimos\u001b[0m\u001b[1;33m(\u001b[0m\u001b[1;36m20000000\u001b[0m\u001b[1;33m)\u001b[0m\u001b[1;33m\u001b[0m\u001b[1;33m\u001b[0m\u001b[0m\n\u001b[0m",
      "\u001b[1;32m~\\AppData\\Local\\Temp/ipykernel_29636/3355409561.py\u001b[0m in \u001b[0;36mcalculaNumerosPrimos\u001b[1;34m(numeros)\u001b[0m\n\u001b[0;32m     12\u001b[0m     \u001b[0mlistaPrimos\u001b[0m \u001b[1;33m=\u001b[0m \u001b[1;33m[\u001b[0m\u001b[1;33m]\u001b[0m\u001b[1;33m\u001b[0m\u001b[1;33m\u001b[0m\u001b[0m\n\u001b[0;32m     13\u001b[0m     \u001b[1;32mfor\u001b[0m \u001b[0mnumero\u001b[0m \u001b[1;32min\u001b[0m \u001b[0mrange\u001b[0m\u001b[1;33m(\u001b[0m\u001b[1;36m1\u001b[0m\u001b[1;33m,\u001b[0m\u001b[0mnumeros\u001b[0m\u001b[1;33m+\u001b[0m\u001b[1;36m1\u001b[0m\u001b[1;33m)\u001b[0m\u001b[1;33m:\u001b[0m\u001b[1;33m\u001b[0m\u001b[1;33m\u001b[0m\u001b[0m\n\u001b[1;32m---> 14\u001b[1;33m         \u001b[1;32mif\u001b[0m\u001b[1;33m(\u001b[0m\u001b[0misprime\u001b[0m\u001b[1;33m(\u001b[0m\u001b[0mnumero\u001b[0m\u001b[1;33m)\u001b[0m\u001b[1;33m==\u001b[0m\u001b[1;32mTrue\u001b[0m\u001b[1;33m)\u001b[0m\u001b[1;33m:\u001b[0m\u001b[1;33m\u001b[0m\u001b[1;33m\u001b[0m\u001b[0m\n\u001b[0m\u001b[0;32m     15\u001b[0m             \u001b[1;31m#diccionarioPrimos[numero] = \"Primo\"\u001b[0m\u001b[1;33m\u001b[0m\u001b[1;33m\u001b[0m\u001b[0m\n\u001b[0;32m     16\u001b[0m             \u001b[0mlistaPrimos\u001b[0m\u001b[1;33m.\u001b[0m\u001b[0mappend\u001b[0m\u001b[1;33m(\u001b[0m\u001b[0mnumero\u001b[0m\u001b[1;33m)\u001b[0m\u001b[1;33m\u001b[0m\u001b[1;33m\u001b[0m\u001b[0m\n",
      "\u001b[1;32m~\\AppData\\Local\\Temp/ipykernel_29636/3355409561.py\u001b[0m in \u001b[0;36misprime\u001b[1;34m(x)\u001b[0m\n\u001b[0;32m      3\u001b[0m \u001b[1;32mdef\u001b[0m \u001b[0misprime\u001b[0m\u001b[1;33m(\u001b[0m\u001b[0mx\u001b[0m\u001b[1;33m)\u001b[0m\u001b[1;33m:\u001b[0m\u001b[1;33m\u001b[0m\u001b[1;33m\u001b[0m\u001b[0m\n\u001b[0;32m      4\u001b[0m     \u001b[0ma\u001b[0m\u001b[1;33m=\u001b[0m\u001b[1;36m2\u001b[0m\u001b[1;33m\u001b[0m\u001b[1;33m\u001b[0m\u001b[0m\n\u001b[1;32m----> 5\u001b[1;33m     \u001b[1;32mwhile\u001b[0m \u001b[0ma\u001b[0m\u001b[1;33m<=\u001b[0m\u001b[0mmath\u001b[0m\u001b[1;33m.\u001b[0m\u001b[0msqrt\u001b[0m\u001b[1;33m(\u001b[0m\u001b[0mx\u001b[0m\u001b[1;33m)\u001b[0m\u001b[1;33m:\u001b[0m\u001b[1;33m\u001b[0m\u001b[1;33m\u001b[0m\u001b[0m\n\u001b[0m\u001b[0;32m      6\u001b[0m         \u001b[1;32mif\u001b[0m \u001b[0mx\u001b[0m\u001b[1;33m%\u001b[0m\u001b[0ma\u001b[0m\u001b[1;33m<\u001b[0m\u001b[1;36m1\u001b[0m\u001b[1;33m:\u001b[0m\u001b[1;33m\u001b[0m\u001b[1;33m\u001b[0m\u001b[0m\n\u001b[0;32m      7\u001b[0m             \u001b[1;32mreturn\u001b[0m \u001b[1;32mFalse\u001b[0m\u001b[1;33m\u001b[0m\u001b[1;33m\u001b[0m\u001b[0m\n",
      "\u001b[1;31mKeyboardInterrupt\u001b[0m: "
     ]
    }
   ],
   "source": [
    "import math\n",
    "\n",
    "def isprime(x):\n",
    "    a=2\n",
    "    while a<=math.sqrt(x):\n",
    "        if x%a<1:\n",
    "            return False\n",
    "        a=a+1\n",
    "    return x>1\n",
    "\n",
    "def calculaNumerosPrimos(numeros):\n",
    "    listaPrimos = []\n",
    "    for numero in range(1,numeros+1):\n",
    "        if(isprime(numero)==True):\n",
    "            #diccionarioPrimos[numero] = \"Primo\"\n",
    "            listaPrimos.append(numero)\n",
    "    return listaPrimos\n",
    "\n",
    "calculaNumerosPrimos(20000000)"
   ]
  }
 ],
 "metadata": {
  "interpreter": {
   "hash": "f13a15f6d8e6dbf190362d83f8f24b25050c3603e79608f15fd979d60be4a590"
  },
  "kernelspec": {
   "display_name": "Python 3.9.7 64-bit ('bg': conda)",
   "language": "python",
   "name": "python3"
  },
  "language_info": {
   "codemirror_mode": {
    "name": "ipython",
    "version": 3
   },
   "file_extension": ".py",
   "mimetype": "text/x-python",
   "name": "python",
   "nbconvert_exporter": "python",
   "pygments_lexer": "ipython3",
   "version": "3.9.7"
  },
  "orig_nbformat": 4
 },
 "nbformat": 4,
 "nbformat_minor": 2
}
